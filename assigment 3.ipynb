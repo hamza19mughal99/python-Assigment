{
 "cells": [
  {
   "cell_type": "code",
   "execution_count": 11,
   "metadata": {},
   "outputs": [
    {
     "name": "stdout",
     "output_type": "stream",
     "text": [
      "enter first value4\n",
      "enter second value5\n",
      "enter operator-\n",
      "-1 answer\n"
     ]
    }
   ],
   "source": [
    "val1 = int(input(\"enter first value\"))\n",
    "val2 = int(input(\"enter second value\"))\n",
    "operator = input(\"enter operator\")\n",
    "\n",
    "if operator == \"+\" :\n",
    "    val3 = val1 + val2\n",
    "    print(val3, \"answer\")\n",
    "elif operator == \"-\" :\n",
    "    val3 = val1 - val2\n",
    "    print(val3, \"answer\")\n",
    "elif operator == \"*\" :\n",
    "    val3 = val1 * val2\n",
    "    print(val3, \"answer\")\n",
    "elif operator == \"/\" :\n",
    "    val3 = val1 / val2\n",
    "    print(val3, \"answer\")\n",
    "else :\n",
    "    print(\"please write correct operator\")\n",
    "    "
   ]
  },
  {
   "cell_type": "code",
   "execution_count": 12,
   "metadata": {},
   "outputs": [
    {
     "name": "stdout",
     "output_type": "stream",
     "text": [
      "True \n",
      " False\n"
     ]
    }
   ],
   "source": [
    "ini_list = [[1, 2, 5, 10, 7], \n",
    "            [4, 3, 4, 3, 21], \n",
    "            [45, 65, 8, 8, 9, 9]] \n",
    "  \n",
    "elem = 8\n",
    "elem1 = 0\n",
    "res1 = elem in (item for sublist in ini_list for item in sublist) \n",
    "res2 = elem1 in (item for sublist in ini_list for item in sublist) \n",
    "print(str(res1), \"\\n\", str(res2))"
   ]
  },
  {
   "cell_type": "code",
   "execution_count": 5,
   "metadata": {},
   "outputs": [
    {
     "name": "stdout",
     "output_type": "stream",
     "text": [
      "{'first name': 'hamza', 'last name': 'mughal', 'address': 'f.b area water pump', 'city': 'karachi'}\n"
     ]
    }
   ],
   "source": [
    "customer={\"first name\":\"hamza\",\n",
    "       \"last name\" : \"mughal\",\n",
    "       \"address\": \"f.b area water pump\"\n",
    "         }\n",
    "customer[\"city\"]='karachi'\n",
    "print(customer)"
   ]
  },
  {
   "cell_type": "code",
   "execution_count": 6,
   "metadata": {},
   "outputs": [
    {
     "name": "stdout",
     "output_type": "stream",
     "text": [
      "600\n"
     ]
    }
   ],
   "source": [
    "my_dict = {'a':100,'b':200,'c':300}\n",
    "print(sum(my_dict.values()))"
   ]
  },
  {
   "cell_type": "code",
   "execution_count": 7,
   "metadata": {},
   "outputs": [
    {
     "name": "stdout",
     "output_type": "stream",
     "text": [
      "15\n",
      "20\n",
      "30\n",
      "40\n",
      "50\n"
     ]
    }
   ],
   "source": [
    "my_list = [30,20,30,40,50,15,11,20,40,50,15]\n",
    "my_list.sort()\n",
    "for i in range (len (my_list) -1):\n",
    "    if my_list[i] == my_list[i+1]:\n",
    "     print (my_list[i])"
   ]
  },
  {
   "cell_type": "code",
   "execution_count": 8,
   "metadata": {},
   "outputs": [
    {
     "name": "stdout",
     "output_type": "stream",
     "text": [
      "Enter key to check:4\n",
      "Key isn't present!\n"
     ]
    }
   ],
   "source": [
    "d={'A':1,'B':2,'C':3}\n",
    "key=input(\"Enter key to check:\")\n",
    "if key in d.keys():\n",
    "        print(\"Key is present and value of the key is:\")\n",
    "        print(d[key])\n",
    "else:\n",
    "       print(\"Key isn't present!\")"
   ]
  },
  {
   "cell_type": "code",
   "execution_count": null,
   "metadata": {},
   "outputs": [],
   "source": []
  }
 ],
 "metadata": {
  "kernelspec": {
   "display_name": "Python 3",
   "language": "python",
   "name": "python3"
  },
  "language_info": {
   "codemirror_mode": {
    "name": "ipython",
    "version": 3
   },
   "file_extension": ".py",
   "mimetype": "text/x-python",
   "name": "python",
   "nbconvert_exporter": "python",
   "pygments_lexer": "ipython3",
   "version": "3.7.4"
  }
 },
 "nbformat": 4,
 "nbformat_minor": 2
}
