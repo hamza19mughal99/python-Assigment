{
 "cells": [
  {
   "cell_type": "code",
   "execution_count": 1,
   "metadata": {},
   "outputs": [
    {
     "name": "stdout",
     "output_type": "stream",
     "text": [
      "{'first_name': 'hamza', 'last_name': 'mughal', 'age': 20, 'city': 'karachi'}\n",
      "{'first_name': 'hamza', 'last_name': 'mughal', 'age': 20, 'city': 'karachi', 'qualification': 'higher academic level'}\n",
      "{'first_name': 'hamza', 'last_name': 'mughal', 'age': 20, 'city': 'karachi'}\n"
     ]
    }
   ],
   "source": [
    "person = {\n",
    "    \"first_name\" : \"hamza\",\n",
    "    \"last_name\" : \"mughal\",\n",
    "    \"age\" : 20 ,\n",
    "    \"city\" : \"karachi\" ,\n",
    "}\n",
    "print(person)\n",
    "person[\"qualification\"] = \"higher academic level\"\n",
    "print(person)\n",
    "del person[\"qualification\"]\n",
    "print(person)"
   ]
  },
  {
   "cell_type": "code",
   "execution_count": 2,
   "metadata": {},
   "outputs": [
    {
     "name": "stdout",
     "output_type": "stream",
     "text": [
      "\n",
      "Karachi is in Pakistan.\n",
      "  It has a population of about 3000000.\n",
      "Biggest City Of Pakistan \n",
      "\n",
      "Dehli is in India.\n",
      "  It has a population of about 6000000.\n",
      "Capital Of India \n",
      "\n",
      "Beijing is in China.\n",
      "  It has a population of about 300000000.\n",
      "One Of The Most Heavily Populated City In The World \n"
     ]
    }
   ],
   "source": [
    "cities = {\n",
    "    'karachi' : {\n",
    "        \"country\" : \"pakistan\",\n",
    "        \"population\" : 3000000,\n",
    "        \"fact\" : \"biggest city of pakistan \",\n",
    "    },\n",
    "    \"dehli\" : {\n",
    "         \"country\" : \"india\",\n",
    "        \"population\" : 6000000,\n",
    "        \"fact\" : \"capital of india \",\n",
    "    },\n",
    "    \"beijing\" : {\n",
    "         \"country\" : \"china\",\n",
    "        \"population\" : 300000000,\n",
    "        \"fact\" : \"one of the most heavily populated city in the world \",\n",
    "    }\n",
    "}\n",
    "for city, city_info in cities.items():\n",
    "    country = city_info['country'].title()\n",
    "    population = city_info['population']\n",
    "    fact = city_info['fact'].title()\n",
    "\n",
    "    print(\"\\n\" + city.title() + \" is in \" + country + \".\")\n",
    "    print(\"  It has a population of about \" + str(population) + \".\")\n",
    "    print(fact)"
   ]
  },
  {
   "cell_type": "code",
   "execution_count": 5,
   "metadata": {},
   "outputs": [
    {
     "name": "stdout",
     "output_type": "stream",
     "text": [
      "enter your age for ticket and enter 0 for finish  4\n",
      "the ticket price is $10\n",
      "enter your age for ticket and enter 0 for finish  9\n",
      "the ticket price is $10\n",
      "enter your age for ticket and enter 0 for finish  0\n",
      "thank you\n"
     ]
    }
   ],
   "source": [
    "while True :\n",
    "    a = int(input(\"enter your age for ticket and enter 0 for finish  \"))\n",
    "    if a == 0:\n",
    "        print(\"thank you\")\n",
    "        break\n",
    "    elif a < 3 :\n",
    "        print(\"the ticket is free for you\")\n",
    "    elif a > 3 or a < 12 :\n",
    "        print(\"the ticket price is $10\")\n",
    "    elif a > 12 :\n",
    "        print(\"the ticket price is $15\")\n",
    "    else :\n",
    "        print(\"you write inappropiate age\")"
   ]
  },
  {
   "cell_type": "code",
   "execution_count": 6,
   "metadata": {},
   "outputs": [
    {
     "name": "stdout",
     "output_type": "stream",
     "text": [
      "The Abstract Wild is one of my favorite books.\n"
     ]
    }
   ],
   "source": [
    "def favorite_book(title):\n",
    "    print(title + \" is one of my favorite books.\")\n",
    "\n",
    "favorite_book('The Abstract Wild')"
   ]
  },
  {
   "cell_type": "code",
   "execution_count": null,
   "metadata": {},
   "outputs": [],
   "source": [
    "import random\n",
    "\n",
    "num = random.randint(1, 30)\n",
    "\n",
    "guess = int(input(\"Guess a number between 1 and 30: \"))\n",
    "for guess in range(3):\n",
    "    if guess < num:\n",
    "            guess = input(\"Your guess was too low: guess again!\")\n",
    "            guess = int(guess)\n",
    "    elif guess > num:\n",
    "            guess = input(\"Your guess was too high: guess again!\")\n",
    "            guess = int(guess)\n",
    "    elif guess == num:\n",
    "            print(\"Correct! Well done!\")\n",
    "            again = input(\"Would you like to play again? (Y or N): \")\n",
    "    "
   ]
  },
  {
   "cell_type": "code",
   "execution_count": null,
   "metadata": {},
   "outputs": [],
   "source": [
    "import random\n",
    "\n",
    "num = random.randint(1, 30)\n",
    "\n",
    "guess = int(input(\"Guess a number between 1 and 30: \"))\n",
    "for guess in range(3):\n",
    "    if guess < num:\n",
    "            guess = input(\"Your guess was too low: guess again!\")\n",
    "            guess = int(guess)\n",
    "    elif guess > num:\n",
    "            guess = input(\"Your guess was too high: guess again!\")\n",
    "            guess = int(guess)\n",
    "    elif guess == num:\n",
    "            print(\"Correct! Well done!\")\n",
    "            break\n",
    "    else :\n",
    "        print(\"try again\")"
   ]
  },
  {
   "cell_type": "code",
   "execution_count": null,
   "metadata": {},
   "outputs": [],
   "source": []
  },
  {
   "cell_type": "code",
   "execution_count": null,
   "metadata": {},
   "outputs": [],
   "source": []
  }
 ],
 "metadata": {
  "kernelspec": {
   "display_name": "Python 3",
   "language": "python",
   "name": "python3"
  },
  "language_info": {
   "codemirror_mode": {
    "name": "ipython",
    "version": 3
   },
   "file_extension": ".py",
   "mimetype": "text/x-python",
   "name": "python",
   "nbconvert_exporter": "python",
   "pygments_lexer": "ipython3",
   "version": "3.7.4"
  }
 },
 "nbformat": 4,
 "nbformat_minor": 2
}
