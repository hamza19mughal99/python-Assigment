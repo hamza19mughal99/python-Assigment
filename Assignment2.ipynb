{
 "cells": [
  {
   "cell_type": "code",
   "execution_count": 2,
   "metadata": {},
   "outputs": [
    {
     "name": "stdout",
     "output_type": "stream",
     "text": [
      "Enter you name  hamza ahmed mughal\n",
      "Enter your Roll No 092\n",
      "Enter Chemistry Marks out of 100 : 78\n",
      "Enter Physics Marks out of 100 : 67\n",
      "Enter Mathematics Marks out of 100 : 87\n",
      "Enter Urdu Marks out of 100 : 56\n",
      "Enter Pst Marks out of 100 : 76\n",
      "Name: hamza ahmed mughal\n",
      "Roll no: 92\n",
      "Chemistry Marks :  78\n",
      "Physics Marks :  67\n",
      "Mathematics Marks :  87\n",
      "Urdu Marks :  56\n",
      "Pst Marks :  76\n",
      "total marks :  364\n",
      "Percentage :  72.0\n",
      "Grade : A\n"
     ]
    }
   ],
   "source": [
    "name = input(\"Enter you name  \")\n",
    "roll = int(input(\"Enter your Roll No \"))\n",
    "chem = int(input(\"Enter Chemistry Marks out of 100 : \"))\n",
    "Phy = int(input(\"Enter Physics Marks out of 100 : \"))\n",
    "Math = int(input(\"Enter Mathematics Marks out of 100 : \"))\n",
    "Urdu = int(input(\"Enter Urdu Marks out of 100 : \"))\n",
    "Pst = int(input(\"Enter Pst Marks out of 100 : \"))\n",
    "total = chem + Phy + Math + Urdu + Pst\n",
    "per = float(total*100) // 500\n",
    "print(\"Name:\", name)\n",
    "print(\"Roll no:\", roll)\n",
    "print(\"Chemistry Marks : \", chem)\n",
    "print(\"Physics Marks : \", Phy)\n",
    "print(\"Mathematics Marks : \", Math)\n",
    "print(\"Urdu Marks : \", Urdu)\n",
    "print(\"Pst Marks : \", Pst)\n",
    "print(\"total marks : \", total)\n",
    "print(\"Percentage : \", per )\n",
    "if per >= 80 and per <= 100 :\n",
    "    print(\"Grade : A+\")\n",
    "elif per >= 70 and per < 80 :\n",
    "    print(\"Grade : A\")\n",
    "elif per >= 60 and per < 70 :\n",
    "    print(\"Grade : B\")\n",
    "elif per >= 50 and per < 60 :\n",
    "    print(\"Grade : C\")\n",
    "elif per >= 40 and per < 50 :\n",
    "    print(\"Grade : D\")\n",
    "elif per >= 33 and per < 40 :\n",
    "    print(\"Grade : E\")\n",
    "elif per < 33 :\n",
    "    print(\"Grade : Fail\")\n",
    "else :\n",
    "    print(\" you write inappropiate percentage \")\n"
   ]
  },
  {
   "cell_type": "code",
   "execution_count": 4,
   "metadata": {},
   "outputs": [
    {
     "name": "stdout",
     "output_type": "stream",
     "text": [
      "enter any number4\n",
      "the number you enter is even\n"
     ]
    }
   ],
   "source": [
    "a = int(input(\"enter any number\"))\n",
    "if a % 2 == 0 :\n",
    "    print(\"the number you enter is even\")\n",
    "else :\n",
    "    print(\"the number you enter is odd \")"
   ]
  },
  {
   "cell_type": "code",
   "execution_count": 6,
   "metadata": {},
   "outputs": [
    {
     "name": "stdout",
     "output_type": "stream",
     "text": [
      "5\n"
     ]
    }
   ],
   "source": [
    "list = [22 , 33 , \"hamza\" , \"ahmed\" , \"mughal\"]\n",
    "print(len(list))"
   ]
  },
  {
   "cell_type": "code",
   "execution_count": 8,
   "metadata": {},
   "outputs": [
    {
     "name": "stdout",
     "output_type": "stream",
     "text": [
      "198\n"
     ]
    }
   ],
   "source": [
    "arr = [33,44,55,66]\n",
    "sum = arr[0] + arr[1] + arr[2] + arr[3]\n",
    "print(sum)"
   ]
  },
  {
   "cell_type": "code",
   "execution_count": 10,
   "metadata": {},
   "outputs": [
    {
     "name": "stdout",
     "output_type": "stream",
     "text": [
      "the largest number from above list is  7\n"
     ]
    }
   ],
   "source": [
    "a = [2,4,5,6,7]\n",
    "print(\"the largest number from above list is \", max(a) )"
   ]
  },
  {
   "cell_type": "code",
   "execution_count": 14,
   "metadata": {},
   "outputs": [
    {
     "name": "stdout",
     "output_type": "stream",
     "text": [
      "[1, 1, 2, 3, 4]\n"
     ]
    }
   ],
   "source": [
    "list = [1, 1, 2, 3, 4, 8, 13, 21, 34, 55, 89]\n",
    "\n",
    "newlist = []\n",
    "\n",
    "for b in list :\n",
    "  \n",
    "    if b < 5 :\n",
    "         newlist.append(b)\n",
    "print(newlist)"
   ]
  },
  {
   "cell_type": "code",
   "execution_count": null,
   "metadata": {},
   "outputs": [],
   "source": []
  },
  {
   "cell_type": "code",
   "execution_count": null,
   "metadata": {},
   "outputs": [],
   "source": []
  }
 ],
 "metadata": {
  "kernelspec": {
   "display_name": "Python 3",
   "language": "python",
   "name": "python3"
  },
  "language_info": {
   "codemirror_mode": {
    "name": "ipython",
    "version": 3
   },
   "file_extension": ".py",
   "mimetype": "text/x-python",
   "name": "python",
   "nbconvert_exporter": "python",
   "pygments_lexer": "ipython3",
   "version": "3.7.4"
  }
 },
 "nbformat": 4,
 "nbformat_minor": 2
}
