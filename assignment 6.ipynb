{
 "cells": [
  {
   "cell_type": "code",
   "execution_count": 1,
   "metadata": {},
   "outputs": [],
   "source": [
    "#question no 1 \n",
    "#Object Oriented programming language is a paradigm based on the concept of \"objects\" which contain data "
   ]
  },
  {
   "cell_type": "code",
   "execution_count": null,
   "metadata": {},
   "outputs": [],
   "source": [
    "#question no 2\n",
    "#benefits of oops\n",
    "# 1. Flexibility through polymorphism\n",
    "# 2. Effective problem solving \n",
    "# 3. reuse of code through inheritance "
   ]
  },
  {
   "cell_type": "code",
   "execution_count": null,
   "metadata": {},
   "outputs": [],
   "source": [
    "#question no 3 \n",
    "#function: function can be defined outside the class \n",
    "#method: function which defined within the class "
   ]
  },
  {
   "cell_type": "code",
   "execution_count": 2,
   "metadata": {},
   "outputs": [],
   "source": [
    "#question no 4 \n",
    "#CLASS : It is a template or blue print about the capability of what an object can do.\n",
    "#Object : Object is an instantiation of a class. When class is defined only the description of the object is defined  \n",
    "#Attributes: Attributes are data stored inside a class or object \n",
    "#Behaviour: behaviour define how object of that class operates how it will react if asked to do something "
   ]
  },
  {
   "cell_type": "code",
   "execution_count": 10,
   "metadata": {},
   "outputs": [
    {
     "name": "stdout",
     "output_type": "stream",
     "text": [
      "1999\n",
      "black\n",
      "civic\n",
      "5\n",
      "1\n",
      "Alloy\n",
      "metal\n",
      "comfortable\n"
     ]
    }
   ],
   "source": [
    "#question no 5\n",
    "class Car():\n",
    "    def __init__(self, model,color,name,gear,stering):\n",
    "        self.model = model\n",
    "        self.color = color\n",
    "        self.name = name\n",
    "        self.gear = gear\n",
    "        self.stering = stering\n",
    "        \n",
    "    def tyresrim(self, tyres):\n",
    "        self.newtyres = tyres\n",
    "        \n",
    "    def doors(self, door):\n",
    "        self.newdoors = door\n",
    "    \n",
    "    def seats(self, seat):\n",
    "        self.newseats = seat\n",
    "#instance        \n",
    "inst = Car(1999,'black','civic',5,1)\n",
    "#method\n",
    "inst.tyresrim(\"Alloy\")\n",
    "inst.doors(\"metal\")\n",
    "inst.seats(\"comfortable\")\n",
    "#instance print\n",
    "print(inst.model)\n",
    "print(inst.color)\n",
    "print(inst.name)\n",
    "print(inst.gear)\n",
    "#method print\n",
    "print(inst.stering)\n",
    "print(inst.newtyres)\n",
    "print(inst.newdoors)\n",
    "print(inst.newseats)"
   ]
  },
  {
   "cell_type": "code",
   "execution_count": null,
   "metadata": {},
   "outputs": [],
   "source": []
  }
 ],
 "metadata": {
  "kernelspec": {
   "display_name": "Python 3",
   "language": "python",
   "name": "python3"
  },
  "language_info": {
   "codemirror_mode": {
    "name": "ipython",
    "version": 3
   },
   "file_extension": ".py",
   "mimetype": "text/x-python",
   "name": "python",
   "nbconvert_exporter": "python",
   "pygments_lexer": "ipython3",
   "version": "3.7.4"
  }
 },
 "nbformat": 4,
 "nbformat_minor": 2
}
